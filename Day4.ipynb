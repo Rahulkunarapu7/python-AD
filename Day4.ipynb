{
 "cells": [
  {
   "attachments": {},
   "cell_type": "markdown",
   "id": "2ab767ac-00b7-4321-b354-8fe82a64c972",
   "metadata": {},
   "source": [
    "if condition1:\n",
    "    task1 block of code\n",
    "elif condition2:\n",
    "    task2 block of code\n",
    "elif condition3:\n",
    "    task3 block of code \n",
    "else:\n",
    "    task4 block of code\n",
    "\n"
   ]
  },
  {
   "cell_type": "code",
   "execution_count": 1,
   "id": "56e5c046-5d16-4105-9837-e0d5acd4b507",
   "metadata": {},
   "outputs": [
    {
     "name": "stdout",
     "output_type": "stream",
     "text": [
      "odd\n"
     ]
    }
   ],
   "source": [
    "x=9\n",
    "if x%2==0:\n",
    "    print(\"Even\")\n",
    "else:\n",
    "    print(\"odd\")"
   ]
  },
  {
   "cell_type": "code",
   "execution_count": 2,
   "id": "378ef378-4207-46e0-b5b9-475cf655a71a",
   "metadata": {},
   "outputs": [
    {
     "data": {
      "text/plain": [
       "False"
      ]
     },
     "execution_count": 2,
     "metadata": {},
     "output_type": "execute_result"
    }
   ],
   "source": [
    "x%2==0"
   ]
  },
  {
   "cell_type": "code",
   "execution_count": 5,
   "id": "4e39acd8-66ae-4b5c-bd84-3a2249ca42d5",
   "metadata": {},
   "outputs": [
    {
     "data": {
      "text/plain": [
       "15"
      ]
     },
     "execution_count": 5,
     "metadata": {},
     "output_type": "execute_result"
    }
   ],
   "source": [
    "x+6"
   ]
  },
  {
   "cell_type": "code",
   "execution_count": 20,
   "id": "0bd3118c-e5ab-4995-a67a-62a4c887d790",
   "metadata": {},
   "outputs": [
    {
     "name": "stdin",
     "output_type": "stream",
     "text": [
      "Enter a number 89\n"
     ]
    },
    {
     "name": "stdout",
     "output_type": "stream",
     "text": [
      "postive number\n"
     ]
    }
   ],
   "source": [
    "x=int(input(\"Enter a number\"));\n",
    "if x>0:\n",
    "     print('postive number')\n",
    "elif x<0:\n",
    "     print('negative number ')\n",
    "else:\n",
    "   print('zero')"
   ]
  },
  {
   "cell_type": "code",
   "execution_count": 19,
   "id": "5d565372-8563-48b4-9e13-4f98a48d41d4",
   "metadata": {},
   "outputs": [
    {
     "name": "stdout",
     "output_type": "stream",
     "text": [
      "neg\n",
      "c\n"
     ]
    }
   ],
   "source": [
    "x=-5\n",
    "if x>0:\n",
    "    print('pos')\n",
    "    if x>10:\n",
    "        print('M')\n",
    "    elif x>20:\n",
    "        print('p')\n",
    "    elif  x<10:\n",
    "        print('K')\n",
    "    else:\n",
    "        print('T')\n",
    "elif x<0:\n",
    "    print('neg')\n",
    "    if x<-20:\n",
    "        print('Q')\n",
    "    elif x>-10:\n",
    "        print('c')\n",
    "    elif x>-30:\n",
    "        print('Z') \n",
    "    else:\n",
    "        print('Zero')\n",
    "        "
   ]
  },
  {
   "cell_type": "code",
   "execution_count": 25,
   "id": "69a1953a-bd26-47b0-9627-84fb1c683b62",
   "metadata": {},
   "outputs": [
    {
     "name": "stdout",
     "output_type": "stream",
     "text": [
      "yes\n"
     ]
    }
   ],
   "source": [
    "x='Telangana'\n",
    "x='Tiger'\n",
    "x='Tan'\n",
    "if x[0]=='T':\n",
    "    print('yes')\n",
    "else:\n",
    "     print('no')"
   ]
  },
  {
   "cell_type": "code",
   "execution_count": 32,
   "id": "969aa087-25be-4f44-890c-e07e68914fb1",
   "metadata": {},
   "outputs": [
    {
     "name": "stdout",
     "output_type": "stream",
     "text": [
      "yes\n"
     ]
    }
   ],
   "source": [
    "x='telangana'\n",
    "if x[0]=='m' or x[0]=='s' or x[0]=='t':\n",
    "    print('yes')\n",
    "else:\n",
    "    print('no')"
   ]
  },
  {
   "cell_type": "code",
   "execution_count": 36,
   "id": "a81dc110-e70b-4a2f-b977-bf31f1b99202",
   "metadata": {},
   "outputs": [
    {
     "name": "stdout",
     "output_type": "stream",
     "text": [
      "yes\n"
     ]
    }
   ],
   "source": [
    "x='Telangana'\n",
    "x='money'\n",
    "x='sam'\n",
    "if x[0].lower() in ('t','s','m'):\n",
    "    print('yes')\n",
    "else:\n",
    "     print('no')"
   ]
  },
  {
   "cell_type": "code",
   "execution_count": null,
   "id": "4d4e4736-37e8-4991-89d2-ca29d74ae990",
   "metadata": {},
   "outputs": [],
   "source": []
  }
 ],
 "metadata": {
  "kernelspec": {
   "display_name": "Python 3 (ipykernel)",
   "language": "python",
   "name": "python3"
  },
  "language_info": {
   "codemirror_mode": {
    "name": "ipython",
    "version": 3
   },
   "file_extension": ".py",
   "mimetype": "text/x-python",
   "name": "python",
   "nbconvert_exporter": "python",
   "pygments_lexer": "ipython3",
   "version": "3.12.7"
  }
 },
 "nbformat": 4,
 "nbformat_minor": 5
}
