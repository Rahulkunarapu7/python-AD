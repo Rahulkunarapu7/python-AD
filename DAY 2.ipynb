{
 "cells": [
  {
   "cell_type": "markdown",
   "id": "bce37a45-5f86-41af-b849-8d6d08ce4972",
   "metadata": {},
   "source": [
    "### addition  +\n",
    "### subtraction -\n",
    "### multiplication *\n",
    "### division /\n",
    "### remander %\n",
    "### power **\n",
    "### // floor division"
   ]
  },
  {
   "cell_type": "code",
   "execution_count": 6,
   "id": "a2d1ba75-b897-4c40-be51-f53d414a46ea",
   "metadata": {},
   "outputs": [
    {
     "name": "stdout",
     "output_type": "stream",
     "text": [
      "156\n"
     ]
    }
   ],
   "source": [
    "a= 12\n",
    "b= 13 \n",
    "c=a+b\n",
    "e=a*b\n",
    "print(e)"
   ]
  },
  {
   "cell_type": "code",
   "execution_count": 8,
   "id": "28012285-85ba-4c33-94be-57ccd30a5773",
   "metadata": {},
   "outputs": [],
   "source": [
    "c=a+b"
   ]
  },
  {
   "cell_type": "code",
   "execution_count": 9,
   "id": "edc8e72e-5557-40ba-b2ec-619c45b1aa8a",
   "metadata": {},
   "outputs": [
    {
     "name": "stdout",
     "output_type": "stream",
     "text": [
      "-1\n"
     ]
    }
   ],
   "source": [
    "d=a-b\n",
    "print(d)"
   ]
  },
  {
   "cell_type": "code",
   "execution_count": 10,
   "id": "dcb6ae87-2fa8-4f9d-b483-6b9beec6cf7e",
   "metadata": {},
   "outputs": [
    {
     "data": {
      "text/plain": [
       "64"
      ]
     },
     "execution_count": 10,
     "metadata": {},
     "output_type": "execute_result"
    }
   ],
   "source": [
    "4**3"
   ]
  },
  {
   "cell_type": "code",
   "execution_count": 11,
   "id": "0e6a3722-ca65-40f3-9ee2-3890ae212fc5",
   "metadata": {},
   "outputs": [
    {
     "data": {
      "text/plain": [
       "1024"
      ]
     },
     "execution_count": 11,
     "metadata": {},
     "output_type": "execute_result"
    }
   ],
   "source": [
    "4**5"
   ]
  },
  {
   "cell_type": "code",
   "execution_count": 13,
   "id": "ff91c820-7f00-4093-a9a0-c6e7781aa758",
   "metadata": {},
   "outputs": [
    {
     "data": {
      "text/plain": [
       "90"
      ]
     },
     "execution_count": 13,
     "metadata": {},
     "output_type": "execute_result"
    }
   ],
   "source": [
    "a=34\n",
    "b=56\n",
    "a*b\n",
    "a+b"
   ]
  },
  {
   "cell_type": "code",
   "execution_count": 14,
   "id": "39812ea4-5274-4329-83fb-b193513ea5b5",
   "metadata": {},
   "outputs": [
    {
     "data": {
      "text/plain": [
       "1904"
      ]
     },
     "execution_count": 14,
     "metadata": {},
     "output_type": "execute_result"
    }
   ],
   "source": [
    "a*b"
   ]
  },
  {
   "cell_type": "code",
   "execution_count": 15,
   "id": "a090ab3f-b83e-4fd6-a695-6c9bd35dbfe2",
   "metadata": {},
   "outputs": [
    {
     "data": {
      "text/plain": [
       "True"
      ]
     },
     "execution_count": 15,
     "metadata": {},
     "output_type": "execute_result"
    }
   ],
   "source": [
    "5<6"
   ]
  },
  {
   "cell_type": "code",
   "execution_count": 16,
   "id": "653fb991-e307-4c44-bb23-519e302964eb",
   "metadata": {},
   "outputs": [
    {
     "data": {
      "text/plain": [
       "True"
      ]
     },
     "execution_count": 16,
     "metadata": {},
     "output_type": "execute_result"
    }
   ],
   "source": [
    "55>45"
   ]
  },
  {
   "cell_type": "code",
   "execution_count": 17,
   "id": "32ddfda3-2d87-4d3c-87ab-88dabdf9f772",
   "metadata": {},
   "outputs": [
    {
     "data": {
      "text/plain": [
       "False"
      ]
     },
     "execution_count": 17,
     "metadata": {},
     "output_type": "execute_result"
    }
   ],
   "source": [
    "55<45"
   ]
  },
  {
   "cell_type": "code",
   "execution_count": 18,
   "id": "ec1312ba-62af-4aa9-ba40-93aceea32691",
   "metadata": {},
   "outputs": [
    {
     "data": {
      "text/plain": [
       "True"
      ]
     },
     "execution_count": 18,
     "metadata": {},
     "output_type": "execute_result"
    }
   ],
   "source": [
    "-5!=0"
   ]
  },
  {
   "cell_type": "code",
   "execution_count": 19,
   "id": "fa2c78d6-7bb0-4574-ba14-2ab10d2ac376",
   "metadata": {},
   "outputs": [
    {
     "data": {
      "text/plain": [
       "False"
      ]
     },
     "execution_count": 19,
     "metadata": {},
     "output_type": "execute_result"
    }
   ],
   "source": [
    "5==56"
   ]
  },
  {
   "cell_type": "code",
   "execution_count": 20,
   "id": "862e48eb-861a-4794-a5c6-a665f30242df",
   "metadata": {},
   "outputs": [
    {
     "data": {
      "text/plain": [
       "True"
      ]
     },
     "execution_count": 20,
     "metadata": {},
     "output_type": "execute_result"
    }
   ],
   "source": [
    "5==5"
   ]
  },
  {
   "cell_type": "code",
   "execution_count": 21,
   "id": "98ea0d31-cd00-4182-a615-ebfdd1446712",
   "metadata": {},
   "outputs": [
    {
     "data": {
      "text/plain": [
       "int"
      ]
     },
     "execution_count": 21,
     "metadata": {},
     "output_type": "execute_result"
    }
   ],
   "source": [
    "type(5)"
   ]
  },
  {
   "cell_type": "code",
   "execution_count": null,
   "id": "c6d9a074-ede7-4b4e-9df8-241a60d50b80",
   "metadata": {},
   "outputs": [],
   "source": [
    "a=45\n",
    "b=32\n"
   ]
  },
  {
   "cell_type": "code",
   "execution_count": 23,
   "id": "7deb6805-cb67-4251-b449-8d87311a5ddf",
   "metadata": {},
   "outputs": [
    {
     "data": {
      "text/plain": [
       "False"
      ]
     },
     "execution_count": 23,
     "metadata": {},
     "output_type": "execute_result"
    }
   ],
   "source": [
    "a>b"
   ]
  },
  {
   "cell_type": "code",
   "execution_count": 24,
   "id": "95bfda56-d00d-41c7-85a6-6e4ad0ea0e5b",
   "metadata": {},
   "outputs": [
    {
     "data": {
      "text/plain": [
       "True"
      ]
     },
     "execution_count": 24,
     "metadata": {},
     "output_type": "execute_result"
    }
   ],
   "source": [
    "a<b"
   ]
  },
  {
   "cell_type": "code",
   "execution_count": 25,
   "id": "4c703085-2b58-4fb7-8f39-cc01168e033f",
   "metadata": {},
   "outputs": [
    {
     "data": {
      "text/plain": [
       "False"
      ]
     },
     "execution_count": 25,
     "metadata": {},
     "output_type": "execute_result"
    }
   ],
   "source": [
    "a>=b"
   ]
  },
  {
   "cell_type": "code",
   "execution_count": 26,
   "id": "dd67db8e-fa66-445e-9e19-9914d202b0cf",
   "metadata": {},
   "outputs": [
    {
     "data": {
      "text/plain": [
       "True"
      ]
     },
     "execution_count": 26,
     "metadata": {},
     "output_type": "execute_result"
    }
   ],
   "source": [
    "a<=b"
   ]
  },
  {
   "cell_type": "code",
   "execution_count": 27,
   "id": "4e04edb8-f7bf-451d-9cd9-6308adaf5202",
   "metadata": {},
   "outputs": [
    {
     "data": {
      "text/plain": [
       "False"
      ]
     },
     "execution_count": 27,
     "metadata": {},
     "output_type": "execute_result"
    }
   ],
   "source": [
    "a==b"
   ]
  },
  {
   "cell_type": "code",
   "execution_count": 28,
   "id": "80e8d924-ab1b-423e-a983-a39f1d97cac2",
   "metadata": {},
   "outputs": [
    {
     "data": {
      "text/plain": [
       "True"
      ]
     },
     "execution_count": 28,
     "metadata": {},
     "output_type": "execute_result"
    }
   ],
   "source": [
    "a!=b"
   ]
  },
  {
   "cell_type": "code",
   "execution_count": 31,
   "id": "534ee044-2ce6-4dcf-b5ce-b711a523ad4d",
   "metadata": {},
   "outputs": [
    {
     "data": {
      "text/plain": [
       "False"
      ]
     },
     "execution_count": 31,
     "metadata": {},
     "output_type": "execute_result"
    }
   ],
   "source": [
    "6!=2*3"
   ]
  },
  {
   "cell_type": "code",
   "execution_count": null,
   "id": "82898a5d-eaaa-40b7-8870-2c86679c762c",
   "metadata": {},
   "outputs": [],
   "source": []
  },
  {
   "cell_type": "code",
   "execution_count": 32,
   "id": "a57eae86-0398-4011-bfcb-bb9ecb6aff41",
   "metadata": {},
   "outputs": [
    {
     "data": {
      "text/plain": [
       "-1"
      ]
     },
     "execution_count": 32,
     "metadata": {},
     "output_type": "execute_result"
    }
   ],
   "source": [
    "d"
   ]
  },
  {
   "cell_type": "code",
   "execution_count": 33,
   "id": "f95a5019-68a8-4450-ad57-2f46a9750186",
   "metadata": {},
   "outputs": [
    {
     "data": {
      "text/plain": [
       "False"
      ]
     },
     "execution_count": 33,
     "metadata": {},
     "output_type": "execute_result"
    }
   ],
   "source": [
    "d>10"
   ]
  },
  {
   "cell_type": "code",
   "execution_count": 34,
   "id": "47f088fc-4fe8-43f5-a988-043ab25384da",
   "metadata": {},
   "outputs": [
    {
     "data": {
      "text/plain": [
       "True"
      ]
     },
     "execution_count": 34,
     "metadata": {},
     "output_type": "execute_result"
    }
   ],
   "source": [
    "d<30"
   ]
  },
  {
   "cell_type": "code",
   "execution_count": null,
   "id": "d834ef33-e826-4e5c-8a88-0a883cb3e7d8",
   "metadata": {},
   "outputs": [],
   "source": [
    "d=8.4\n"
   ]
  },
  {
   "cell_type": "code",
   "execution_count": 37,
   "id": "f1bf2833-77a3-41e4-a1ce-2b0db6935aa6",
   "metadata": {},
   "outputs": [
    {
     "data": {
      "text/plain": [
       "True"
      ]
     },
     "execution_count": 37,
     "metadata": {},
     "output_type": "execute_result"
    }
   ],
   "source": [
    "d>=8.1 or d<=9.0"
   ]
  },
  {
   "cell_type": "code",
   "execution_count": 38,
   "id": "8b15759e-5243-49eb-8c3e-d16e0677e989",
   "metadata": {},
   "outputs": [
    {
     "data": {
      "text/plain": [
       "True"
      ]
     },
     "execution_count": 38,
     "metadata": {},
     "output_type": "execute_result"
    }
   ],
   "source": [
    "d<=9.0"
   ]
  },
  {
   "cell_type": "code",
   "execution_count": 39,
   "id": "d35b1896-acb8-45b7-aea1-fed7584191c3",
   "metadata": {},
   "outputs": [
    {
     "data": {
      "text/plain": [
       "False"
      ]
     },
     "execution_count": 39,
     "metadata": {},
     "output_type": "execute_result"
    }
   ],
   "source": [
    "d>=8.1 and d<=9.0"
   ]
  },
  {
   "cell_type": "code",
   "execution_count": 42,
   "id": "245f49a0-5789-43c6-98ef-2a0995b8f3ca",
   "metadata": {},
   "outputs": [],
   "source": [
    "cgpa=8.09"
   ]
  },
  {
   "cell_type": "code",
   "execution_count": 43,
   "id": "8cd34acb-f89c-4ffa-906a-e0e2d89d8150",
   "metadata": {},
   "outputs": [
    {
     "data": {
      "text/plain": [
       "False"
      ]
     },
     "execution_count": 43,
     "metadata": {},
     "output_type": "execute_result"
    }
   ],
   "source": [
    "cgpa>=8.10 and cgpa<=9.00"
   ]
  },
  {
   "cell_type": "code",
   "execution_count": 44,
   "id": "a8a8bd29-515c-4dcd-b3ec-3dbd8988d50c",
   "metadata": {},
   "outputs": [
    {
     "data": {
      "text/plain": [
       "False"
      ]
     },
     "execution_count": 44,
     "metadata": {},
     "output_type": "execute_result"
    }
   ],
   "source": [
    "cgpa>=7.10 and cgpa<8"
   ]
  },
  {
   "cell_type": "code",
   "execution_count": 45,
   "id": "5387d6fa-bab9-4fa6-b7b1-6714b988fcb9",
   "metadata": {},
   "outputs": [
    {
     "data": {
      "text/plain": [
       "False"
      ]
     },
     "execution_count": 45,
     "metadata": {},
     "output_type": "execute_result"
    }
   ],
   "source": [
    "cgpa>6.1 and cgpa <=7.0 # C grade"
   ]
  },
  {
   "cell_type": "code",
   "execution_count": 46,
   "id": "c3c81785-70a4-4d54-8537-180d17298105",
   "metadata": {},
   "outputs": [
    {
     "data": {
      "text/plain": [
       "False"
      ]
     },
     "execution_count": 46,
     "metadata": {},
     "output_type": "execute_result"
    }
   ],
   "source": [
    "cgpa>=5.1 and cgpa<=6.0"
   ]
  },
  {
   "cell_type": "code",
   "execution_count": 47,
   "id": "bc3b8941-e9d2-4673-b224-c3d23fe8c129",
   "metadata": {},
   "outputs": [
    {
     "name": "stdin",
     "output_type": "stream",
     "text": [
      "Enter cgpa 8.4\n"
     ]
    }
   ],
   "source": [
    "cgpa=input('Enter cgpa')"
   ]
  },
  {
   "cell_type": "code",
   "execution_count": 48,
   "id": "29d8bdeb-2f70-4c52-b947-1d940e3ddd9e",
   "metadata": {},
   "outputs": [
    {
     "data": {
      "text/plain": [
       "'8.4'"
      ]
     },
     "execution_count": 48,
     "metadata": {},
     "output_type": "execute_result"
    }
   ],
   "source": [
    "cgpa"
   ]
  },
  {
   "cell_type": "code",
   "execution_count": 1,
   "id": "9115aa6f-1169-4240-9148-90abca760bee",
   "metadata": {},
   "outputs": [
    {
     "data": {
      "text/plain": [
       "[33, 45, 56, 78, 99]"
      ]
     },
     "execution_count": 1,
     "metadata": {},
     "output_type": "execute_result"
    }
   ],
   "source": [
    "a=[33,45,56,78,99]\n",
    "a"
   ]
  },
  {
   "cell_type": "code",
   "execution_count": 2,
   "id": "2c5def28-73ac-4e42-b6ec-1f0dad280341",
   "metadata": {},
   "outputs": [
    {
     "data": {
      "text/plain": [
       "list"
      ]
     },
     "execution_count": 2,
     "metadata": {},
     "output_type": "execute_result"
    }
   ],
   "source": [
    "type(a)"
   ]
  },
  {
   "cell_type": "code",
   "execution_count": 4,
   "id": "ce13b70c-59f5-4d8f-b3ff-a6e7852d6e1b",
   "metadata": {},
   "outputs": [
    {
     "data": {
      "text/plain": [
       "[340, 84.5, 'string', 'True']"
      ]
     },
     "execution_count": 4,
     "metadata": {},
     "output_type": "execute_result"
    }
   ],
   "source": [
    "c=[340,84.5,'string',\"True\"]\n",
    "c"
   ]
  },
  {
   "cell_type": "code",
   "execution_count": 5,
   "id": "1b930583-23d9-4adb-a12d-2a2c4f34085f",
   "metadata": {},
   "outputs": [
    {
     "data": {
      "text/plain": [
       "list"
      ]
     },
     "execution_count": 5,
     "metadata": {},
     "output_type": "execute_result"
    }
   ],
   "source": [
    "type(c)"
   ]
  },
  {
   "cell_type": "code",
   "execution_count": 6,
   "id": "24fd3bd1-1028-4ed0-839b-d4723fe40918",
   "metadata": {},
   "outputs": [
    {
     "data": {
      "text/plain": [
       "['data', True, 80.34, 120, 'hyderabad', 45, 90, 145, False]"
      ]
     },
     "execution_count": 6,
     "metadata": {},
     "output_type": "execute_result"
    }
   ],
   "source": [
    "d=['data',True,80.34,120,'hyderabad',45,90,145,False]\n",
    "d"
   ]
  },
  {
   "cell_type": "code",
   "execution_count": 7,
   "id": "702acffe-aab4-4cd3-8a17-a73f57cdb5ee",
   "metadata": {},
   "outputs": [
    {
     "data": {
      "text/plain": [
       "list"
      ]
     },
     "execution_count": 7,
     "metadata": {},
     "output_type": "execute_result"
    }
   ],
   "source": [
    "type(d)"
   ]
  },
  {
   "cell_type": "code",
   "execution_count": 8,
   "id": "28ee05e0-8a64-489c-a00a-4c6580355101",
   "metadata": {},
   "outputs": [
    {
     "data": {
      "text/plain": [
       "340"
      ]
     },
     "execution_count": 8,
     "metadata": {},
     "output_type": "execute_result"
    }
   ],
   "source": [
    "c[0]"
   ]
  },
  {
   "cell_type": "code",
   "execution_count": 9,
   "id": "8b864188-51ef-4cc6-88a7-e825904d7a15",
   "metadata": {},
   "outputs": [
    {
     "data": {
      "text/plain": [
       "'hyderabad'"
      ]
     },
     "execution_count": 9,
     "metadata": {},
     "output_type": "execute_result"
    }
   ],
   "source": [
    "d[4]"
   ]
  },
  {
   "cell_type": "code",
   "execution_count": 10,
   "id": "37478d98-455e-42ca-a177-b5409df1e100",
   "metadata": {},
   "outputs": [
    {
     "data": {
      "text/plain": [
       "True"
      ]
     },
     "execution_count": 10,
     "metadata": {},
     "output_type": "execute_result"
    }
   ],
   "source": [
    "d[1]\n"
   ]
  },
  {
   "cell_type": "code",
   "execution_count": 11,
   "id": "48bd9f5e-33f1-41eb-a49e-f670e8233999",
   "metadata": {},
   "outputs": [
    {
     "data": {
      "text/plain": [
       "(80.34, 'hyderabad')"
      ]
     },
     "execution_count": 11,
     "metadata": {},
     "output_type": "execute_result"
    }
   ],
   "source": [
    "d[2],d[4]"
   ]
  },
  {
   "cell_type": "code",
   "execution_count": 13,
   "id": "df22a08d-7344-4fd1-89d3-f7ed67ff85ef",
   "metadata": {},
   "outputs": [
    {
     "data": {
      "text/plain": [
       "[True, 80.34, 120, 'hyderabad']"
      ]
     },
     "execution_count": 13,
     "metadata": {},
     "output_type": "execute_result"
    }
   ],
   "source": [
    "d[1:5]"
   ]
  },
  {
   "cell_type": "code",
   "execution_count": 14,
   "id": "6e80448e-ce0d-4958-bfde-c70557be6ba7",
   "metadata": {},
   "outputs": [
    {
     "data": {
      "text/plain": [
       "['data', 80.34, 'hyderabad', 90]"
      ]
     },
     "execution_count": 14,
     "metadata": {},
     "output_type": "execute_result"
    }
   ],
   "source": [
    "d[0:8:2]"
   ]
  },
  {
   "cell_type": "code",
   "execution_count": 15,
   "id": "c8016a84-4c74-4a58-8b28-d29fd7ce9bed",
   "metadata": {},
   "outputs": [
    {
     "data": {
      "text/plain": [
       "145"
      ]
     },
     "execution_count": 15,
     "metadata": {},
     "output_type": "execute_result"
    }
   ],
   "source": [
    "d[-2]"
   ]
  },
  {
   "cell_type": "code",
   "execution_count": 16,
   "id": "6adc186d-43d7-4efc-9f75-e9748c66419b",
   "metadata": {},
   "outputs": [
    {
     "data": {
      "text/plain": [
       "45"
      ]
     },
     "execution_count": 16,
     "metadata": {},
     "output_type": "execute_result"
    }
   ],
   "source": [
    "d[-4]"
   ]
  },
  {
   "cell_type": "code",
   "execution_count": 17,
   "id": "a47b15ad-d894-4d4c-9ade-4c26a38a4e02",
   "metadata": {},
   "outputs": [
    {
     "data": {
      "text/plain": [
       "[84.5, 'string', 'True']"
      ]
     },
     "execution_count": 17,
     "metadata": {},
     "output_type": "execute_result"
    }
   ],
   "source": [
    "c[1:5]"
   ]
  },
  {
   "cell_type": "code",
   "execution_count": 19,
   "id": "b87b1473-4b20-47df-891c-17dee42eef48",
   "metadata": {},
   "outputs": [
    {
     "data": {
      "text/plain": [
       "[90, 45, 'hyderabad', 120]"
      ]
     },
     "execution_count": 19,
     "metadata": {},
     "output_type": "execute_result"
    }
   ],
   "source": [
    "d[6:2:-1]"
   ]
  },
  {
   "cell_type": "markdown",
   "id": "90a875e0-b923-4334-9cf7-d1f839e4c72b",
   "metadata": {},
   "source": [
    "####list methods"
   ]
  },
  {
   "cell_type": "code",
   "execution_count": 23,
   "id": "b57c342f-f5d2-4d5d-8ea7-edaf51a54d7f",
   "metadata": {},
   "outputs": [],
   "source": [
    "d.append(980)"
   ]
  },
  {
   "cell_type": "code",
   "execution_count": 24,
   "id": "a9dabcb8-ff6d-4a7d-aadf-e2a9cf732483",
   "metadata": {},
   "outputs": [
    {
     "data": {
      "text/plain": [
       "['data', True, 80.34, 120, 'hyderabad', 45, 90, 145, False, 980, 980]"
      ]
     },
     "execution_count": 24,
     "metadata": {},
     "output_type": "execute_result"
    }
   ],
   "source": [
    "d"
   ]
  },
  {
   "cell_type": "code",
   "execution_count": 25,
   "id": "fcc05c77-3280-416e-ae6e-b9d5be8a732d",
   "metadata": {},
   "outputs": [],
   "source": [
    "d.insert(1,23)"
   ]
  },
  {
   "cell_type": "code",
   "execution_count": 26,
   "id": "0126d7dc-939b-48b2-a38a-953310090840",
   "metadata": {},
   "outputs": [
    {
     "data": {
      "text/plain": [
       "['data', 23, True, 80.34, 120, 'hyderabad', 45, 90, 145, False, 980, 980]"
      ]
     },
     "execution_count": 26,
     "metadata": {},
     "output_type": "execute_result"
    }
   ],
   "source": [
    "d"
   ]
  },
  {
   "cell_type": "code",
   "execution_count": 27,
   "id": "6730cc44-735f-4d69-ba3a-42b05d370c61",
   "metadata": {},
   "outputs": [],
   "source": [
    "d.remove(45)"
   ]
  },
  {
   "cell_type": "code",
   "execution_count": 28,
   "id": "e7b33b41-e884-470c-9cb9-e755e28bf56e",
   "metadata": {},
   "outputs": [
    {
     "data": {
      "text/plain": [
       "['data', 23, True, 80.34, 120, 'hyderabad', 90, 145, False, 980, 980]"
      ]
     },
     "execution_count": 28,
     "metadata": {},
     "output_type": "execute_result"
    }
   ],
   "source": [
    "d"
   ]
  },
  {
   "cell_type": "code",
   "execution_count": 30,
   "id": "15086917-c29a-48da-8e4e-6d506c467d9a",
   "metadata": {},
   "outputs": [
    {
     "data": {
      "text/plain": [
       "145"
      ]
     },
     "execution_count": 30,
     "metadata": {},
     "output_type": "execute_result"
    }
   ],
   "source": [
    "d.pop(7)"
   ]
  },
  {
   "cell_type": "code",
   "execution_count": 31,
   "id": "94115dc0-58a3-4d51-a1f8-5ef894a7a966",
   "metadata": {},
   "outputs": [
    {
     "data": {
      "text/plain": [
       "['data', 23, True, 80.34, 120, 'hyderabad', 90, False, 980, 980]"
      ]
     },
     "execution_count": 31,
     "metadata": {},
     "output_type": "execute_result"
    }
   ],
   "source": [
    "d"
   ]
  },
  {
   "cell_type": "code",
   "execution_count": 32,
   "id": "caca7f8c-fb03-45a0-b397-c436d1365fff",
   "metadata": {},
   "outputs": [
    {
     "data": {
      "text/plain": [
       "list"
      ]
     },
     "execution_count": 32,
     "metadata": {},
     "output_type": "execute_result"
    }
   ],
   "source": [
    "type(d)"
   ]
  },
  {
   "cell_type": "code",
   "execution_count": 33,
   "id": "049ee5fe-a3ef-4a10-9246-bb95fc285713",
   "metadata": {},
   "outputs": [],
   "source": [
    "d.extend([67,69,34,77])"
   ]
  },
  {
   "cell_type": "code",
   "execution_count": 34,
   "id": "0c2234f3-016c-4fc9-847a-53701dfde42e",
   "metadata": {},
   "outputs": [
    {
     "data": {
      "text/plain": [
       "['data',\n",
       " 23,\n",
       " True,\n",
       " 80.34,\n",
       " 120,\n",
       " 'hyderabad',\n",
       " 90,\n",
       " False,\n",
       " 980,\n",
       " 980,\n",
       " 67,\n",
       " 69,\n",
       " 34,\n",
       " 77]"
      ]
     },
     "execution_count": 34,
     "metadata": {},
     "output_type": "execute_result"
    }
   ],
   "source": [
    "d"
   ]
  },
  {
   "cell_type": "code",
   "execution_count": 1,
   "id": "aa4650dc-4743-44b2-b7df-034e0867303c",
   "metadata": {},
   "outputs": [
    {
     "data": {
      "text/plain": [
       "(90, 67, 45, 56)"
      ]
     },
     "execution_count": 1,
     "metadata": {},
     "output_type": "execute_result"
    }
   ],
   "source": [
    "h=(90,67,45,56)\n",
    "h"
   ]
  },
  {
   "cell_type": "code",
   "execution_count": 3,
   "id": "681f807d-cd5a-4a02-8777-399688a41e0e",
   "metadata": {},
   "outputs": [
    {
     "data": {
      "text/plain": [
       "(90, 67, 45)"
      ]
     },
     "execution_count": 3,
     "metadata": {},
     "output_type": "execute_result"
    }
   ],
   "source": [
    "h[0:3]"
   ]
  },
  {
   "cell_type": "code",
   "execution_count": null,
   "id": "1ab3399a-f9fb-4a4f-b921-acc831b42d71",
   "metadata": {},
   "outputs": [],
   "source": []
  }
 ],
 "metadata": {
  "kernelspec": {
   "display_name": "Python 3 (ipykernel)",
   "language": "python",
   "name": "python3"
  },
  "language_info": {
   "codemirror_mode": {
    "name": "ipython",
    "version": 3
   },
   "file_extension": ".py",
   "mimetype": "text/x-python",
   "name": "python",
   "nbconvert_exporter": "python",
   "pygments_lexer": "ipython3",
   "version": "3.12.7"
  }
 },
 "nbformat": 4,
 "nbformat_minor": 5
}
