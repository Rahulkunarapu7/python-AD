{
 "cells": [
  {
   "cell_type": "markdown",
   "id": "80314622-07a4-43d5-b97b-68a8441daae4",
   "metadata": {},
   "source": [
    "for\n",
    "while loop statements"
   ]
  },
  {
   "cell_type": "code",
   "execution_count": 1,
   "id": "61607e3b-9209-4381-9a90-576180e56031",
   "metadata": {},
   "outputs": [
    {
     "name": "stdout",
     "output_type": "stream",
     "text": [
      "yes\n",
      "yes\n",
      "yes\n",
      "yes\n",
      "yes\n"
     ]
    }
   ],
   "source": [
    "x=100\n",
    "while x<600:\n",
    "    print('yes')\n",
    "    x=x+100"
   ]
  },
  {
   "cell_type": "code",
   "execution_count": 2,
   "id": "8b78c933-96f9-4e34-84fd-eed04f6e4637",
   "metadata": {},
   "outputs": [
    {
     "data": {
      "text/plain": [
       "[40, 20, 80, 50, 30, 60, 90]"
      ]
     },
     "execution_count": 2,
     "metadata": {},
     "output_type": "execute_result"
    }
   ],
   "source": [
    " dollars=[40,20,80,50,30,60,90]\n",
    "dollars"
   ]
  },
  {
   "cell_type": "code",
   "execution_count": 19,
   "id": "680f09f6-c2b2-421f-a9d5-37cbf6e50e6b",
   "metadata": {},
   "outputs": [
    {
     "name": "stdout",
     "output_type": "stream",
     "text": [
      "3400\n",
      "1700\n",
      "6800\n",
      "4250\n",
      "2550\n",
      "5100\n",
      "7650\n"
     ]
    }
   ],
   "source": [
    "for i in dollars:\n",
    "    print(i*85)"
   ]
  },
  {
   "cell_type": "code",
   "execution_count": 20,
   "id": "d55e6356-bcf6-4faf-ab25-8ac87dc09913",
   "metadata": {},
   "outputs": [],
   "source": [
    "inr=[]\n",
    "for i in dollars:\n",
    "    inr.append(i*85)\n",
    "    "
   ]
  },
  {
   "cell_type": "raw",
   "id": "32121661-c9b1-447d-8f5a-43e69337532a",
   "metadata": {},
   "source": [
    "dollars*2"
   ]
  },
  {
   "cell_type": "code",
   "execution_count": 24,
   "id": "b893bc98-fc3c-4c72-98d7-bf12b3e6f7ad",
   "metadata": {},
   "outputs": [
    {
     "data": {
      "text/plain": [
       "[31, 45, 66, 33, 90, 78, 67, 87, 89, 93, 25, 59, 9, 81]"
      ]
     },
     "execution_count": 24,
     "metadata": {},
     "output_type": "execute_result"
    }
   ],
   "source": [
    "num1=[31,45,66,33,90,78,67,87,89,93,25,59,9,81]\n",
    "num1\n",
    "\n"
   ]
  },
  {
   "cell_type": "code",
   "execution_count": 25,
   "id": "1522dc61-9056-40a9-aea4-3e7cfe5ea949",
   "metadata": {},
   "outputs": [
    {
     "name": "stdout",
     "output_type": "stream",
     "text": [
      "[66, 90, 78]\n",
      "[31, 45, 33, 67, 87, 89, 93, 25, 59, 9, 81]\n"
     ]
    }
   ],
   "source": [
    "j=[]\n",
    "k=[]\n",
    "for i in num1:\n",
    "    if i%2==0:\n",
    "        j.append(i)\n",
    "    else:\n",
    "        k.append(i)\n",
    "print(j)\n",
    "print(k)"
   ]
  },
  {
   "cell_type": "code",
   "execution_count": 22,
   "id": "4f6f29c6-4729-412f-a662-94a7e5e68112",
   "metadata": {},
   "outputs": [
    {
     "data": {
      "text/plain": [
       "[34, 85, 56, 78, 69, 44, 94, 56, 67]"
      ]
     },
     "execution_count": 22,
     "metadata": {},
     "output_type": "execute_result"
    }
   ],
   "source": [
    "num2=[34,85,56,78,69,44,94,56,67,]\n",
    "num"
   ]
  },
  {
   "cell_type": "code",
   "execution_count": 30,
   "id": "f41018e8-fcbd-4892-8173-344754b6e592",
   "metadata": {},
   "outputs": [
    {
     "name": "stdout",
     "output_type": "stream",
     "text": [
      "[31]\n",
      "[31, 45]\n",
      "[31, 45, 66]\n",
      "[31, 45, 66, 33]\n",
      "[31, 45, 66, 33, 10]\n",
      "[31, 45, 66, 33, 10, 78]\n",
      "[31, 45, 66, 33, 10, 78, 67]\n",
      "[31, 45, 66, 33, 10, 78, 67, 87]\n",
      "[31, 45, 66, 33, 10, 78, 67, 87, 81]\n",
      "[31, 45, 66, 33, 10, 78, 67, 87, 81, 13]\n",
      "[31, 45, 66, 33, 10, 78, 67, 87, 81, 13, 25]\n",
      "[31, 45, 66, 33, 10, 78, 67, 87, 81, 13, 25, 51]\n",
      "[31, 45, 66, 33, 10, 78, 67, 87, 81, 13, 25, 51, 1]\n",
      "[31, 45, 66, 33, 10, 78, 67, 87, 81, 13, 25, 51, 1, 81]\n"
     ]
    }
   ],
   "source": [
    "h=[]\n",
    "for i in num1:\n",
    "    a=str(i)\n",
    "    b=a.replace('9','1')\n",
    "    c=int(b)\n",
    "    h.append(c)\n",
    "    print(h)"
   ]
  },
  {
   "cell_type": "code",
   "execution_count": null,
   "id": "066865f0-f59d-450a-b43c-468a5fcb92d8",
   "metadata": {},
   "outputs": [],
   "source": []
  }
 ],
 "metadata": {
  "kernelspec": {
   "display_name": "Python 3 (ipykernel)",
   "language": "python",
   "name": "python3"
  },
  "language_info": {
   "codemirror_mode": {
    "name": "ipython",
    "version": 3
   },
   "file_extension": ".py",
   "mimetype": "text/x-python",
   "name": "python",
   "nbconvert_exporter": "python",
   "pygments_lexer": "ipython3",
   "version": "3.12.7"
  }
 },
 "nbformat": 4,
 "nbformat_minor": 5
}
